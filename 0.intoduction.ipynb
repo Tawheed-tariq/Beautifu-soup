{
 "cells": [
  {
   "cell_type": "markdown",
   "metadata": {},
   "source": [
    "## What is web scrapping?\n",
    "web scraping is the practice of gathering data through any means other\n",
    "than a program interacting with an API (or, obviously, through a human using a web\n",
    "browser). This is most commonly accomplished by writing an automated program\n",
    "that queries a web server, requests data (usually in the form of HTML and other files\n",
    "that compose web pages), and then parses that data to extract needed information."
   ]
  },
  {
   "cell_type": "markdown",
   "metadata": {},
   "source": [
    "## What is BeautifulSoup?\n",
    "Beautiful Soup is a Python package for parsing HTML and XML documents (including having malformed markup, i.e. non-closed tags, so named after tag soup).\n",
    "it helps format and organize the messy web by fixing bad HTML and presenting us\n",
    "with easily traversable Python objects representing XML structures."
   ]
  }
 ],
 "metadata": {
  "language_info": {
   "name": "python"
  }
 },
 "nbformat": 4,
 "nbformat_minor": 2
}
