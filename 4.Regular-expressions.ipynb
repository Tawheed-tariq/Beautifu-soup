{
 "cells": [
  {
   "cell_type": "markdown",
   "metadata": {},
   "source": [
    "# Regular expressions\n",
    "BeautifulSoup and regular expressions go hand in hand when it comes to scraping the web. In fact, most functions that take in a string argument (e.g., find(id=\"aTagIdHere\")) will also take in a regular expression just as well. <br/>\n",
    "Notice that the site has many product images, which take the following form: <br/>\n",
    "`<img src=\"../img/gifts/img3.jpg\">` Now we can write regex to find all those."
   ]
  },
  {
   "cell_type": "code",
   "execution_count": null,
   "metadata": {},
   "outputs": [],
   "source": [
    "from urllib.request import urlopen\n",
    "from bs4 import BeautifulSoup\n",
    "import re\n",
    "\n",
    "html = urlopen('http://www.pythonscraping.com/pages/page3.html')\n",
    "bs = BeautifulSoup(html, 'html.parser')"
   ]
  },
  {
   "cell_type": "code",
   "execution_count": null,
   "metadata": {},
   "outputs": [],
   "source": [
    "images = bs.find_all('img', {'src':re.compile('\\.\\.\\/img\\/gifts/img.*\\.jpg')})\n",
    "for image in images:\n",
    "    print(image['src'])"
   ]
  },
  {
   "cell_type": "markdown",
   "metadata": {},
   "source": [
    "A regular expression can be inserted as any argument in a BeautifulSoup expression,\n",
    "allowing you a great deal of flexibility in finding target elements."
   ]
  },
  {
   "cell_type": "markdown",
   "metadata": {},
   "source": [
    "# Accessing Attributes\n",
    "However, often in web scraping you’re not looking for the content of a tag; you’re\n",
    "looking for its attributes. This becomes especially useful for tags such as a, where the\n",
    "URL it is pointing to is contained within the href attribute; or the img tag, where the\n",
    "target image is contained within the src attribute. <br/>\n",
    "Python list of attributes can be automatically accessed by calling : `myTag.attrs` <br/>\n",
    "The source location for an image, for example, can be found using the following line: `myImgTag.attrs['src']`"
   ]
  },
  {
   "cell_type": "markdown",
   "metadata": {},
   "source": [
    "# Lambda expressions\n",
    "A lambda expression is a function that is passed into another function as a\n",
    "variable; instead of defining a function as f(x, y), you may define a function as f(g(x),\n",
    "y) or even f(g(x), h(x)). <br>\n",
    "BeautifulSoup allows you to pass certain types of functions as parameters into the\n",
    "find_all function."
   ]
  },
  {
   "cell_type": "markdown",
   "metadata": {},
   "source": [
    "For example, the following retrieves all tags that have exactly two attributes: <br>\n",
    "`bs.find_all(lambda tag: len(tag.attrs) == 2)`\n"
   ]
  }
 ],
 "metadata": {
  "kernelspec": {
   "display_name": "Python 3",
   "language": "python",
   "name": "python3"
  },
  "language_info": {
   "codemirror_mode": {
    "name": "ipython",
    "version": 3
   },
   "file_extension": ".py",
   "mimetype": "text/x-python",
   "name": "python",
   "nbconvert_exporter": "python",
   "pygments_lexer": "ipython3",
   "version": "3.11.7"
  }
 },
 "nbformat": 4,
 "nbformat_minor": 2
}
