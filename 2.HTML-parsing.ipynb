{
 "cells": [
  {
   "cell_type": "markdown",
   "metadata": {},
   "source": [
    "# Parsing HTML"
   ]
  },
  {
   "cell_type": "code",
   "execution_count": null,
   "metadata": {},
   "outputs": [],
   "source": [
    "from urllib.request import urlopen\n",
    "from bs4 import BeautifulSoup\n",
    "from urllib.error import HTTPError\n",
    "from urllib.error import URLError"
   ]
  },
  {
   "cell_type": "code",
   "execution_count": null,
   "metadata": {},
   "outputs": [],
   "source": [
    "url = 'http://www.pythonscraping.com/pages/page1.html'\n",
    "try:\n",
    "    html = urlopen(url)\n",
    "except HTTPError as e:\n",
    "    print(e)\n",
    "except URLError:\n",
    "    print(\"page not found\")\n",
    "else:\n",
    "    print(html)"
   ]
  },
  {
   "cell_type": "code",
   "execution_count": null,
   "metadata": {},
   "outputs": [],
   "source": [
    "bs = BeautifulSoup(html.read(), 'html.parser')"
   ]
  },
  {
   "cell_type": "markdown",
   "metadata": {},
   "source": [
    "Using this BeautifulSoup object, you can use the find_all function to extract a\n",
    "Python list of proper nouns found by selecting only the text within <span\n",
    "class=\"green\"></span> tags (find_all is an extremely flexible function you’ll be\n",
    "using a lot later in this book):"
   ]
  },
  {
   "cell_type": "code",
   "execution_count": null,
   "metadata": {},
   "outputs": [],
   "source": [
    "nameList = bs.find_all('span', {'class' : {'green', 'red'}}) #returns the span tags with class name as red or green\n",
    "print(nameList)\n",
    "heading = bs.find('h1')\n",
    "print(heading.get_text()) # or use heading.text"
   ]
  },
  {
   "cell_type": "markdown",
   "metadata": {},
   "source": [
    "## find() and find_all() with BeautifulSoup\n",
    "The two functions are extremely similar, as evidenced by their definitions in the\n",
    "BeautifulSoup documentation:\n",
    "``` \n",
    "    find_all(tag, attributes, recursive, string, limit, keywords)\n",
    "    find(tag, attributes, recursive, string, keywords)\n",
    "```\n",
    "\n",
    "The recursive argument is a boolean. How deeply into the document do you want to\n",
    "go? If recursive is set to True (default), the find_all function looks into children, children`s and  children, for tags that match your parameters.\n",
    "If it is False, it will look only at the top-level tags in your document."
   ]
  },
  {
   "cell_type": "markdown",
   "metadata": {},
   "source": [
    " if you want to find the number of times “the prince” is surrounded by tags on the example page, you could replace your `.find_all()` function in the previous example with the following lines"
   ]
  },
  {
   "cell_type": "code",
   "execution_count": null,
   "metadata": {},
   "outputs": [],
   "source": [
    "nameList = bs.find_all(string='the prince')\n",
    "print(len(nameList))"
   ]
  },
  {
   "cell_type": "markdown",
   "metadata": {},
   "source": [
    "The keyword argument allows you to select tags that contain a particular attribute or\n",
    "set of attributes. For example:"
   ]
  },
  {
   "cell_type": "code",
   "execution_count": null,
   "metadata": {},
   "outputs": [],
   "source": [
    "title = bs.find_all(id='title', class_='text')"
   ]
  },
  {
   "cell_type": "markdown",
   "metadata": {},
   "source": [
    "Alternatively, you can enclose class in quotes:\n",
    "`bs.find_all('', {'class':'green'})`"
   ]
  },
  {
   "cell_type": "markdown",
   "metadata": {},
   "source": [
    "there are two more objects in the library that, although less commonly\n",
    "used, are still important to know about:\n",
    "### NavigableString objects\n",
    "    Used to represent text within tags, rather than the tags themselves (some functions operate on and produce NavigableStrings, rather than tag objects).\n",
    "### Comment object\n",
    "    Used to find HTML comments in comment tags, <!--like this one-->."
   ]
  }
 ],
 "metadata": {
  "kernelspec": {
   "display_name": "Python 3",
   "language": "python",
   "name": "python3"
  },
  "language_info": {
   "codemirror_mode": {
    "name": "ipython",
    "version": 3
   },
   "file_extension": ".py",
   "mimetype": "text/x-python",
   "name": "python",
   "nbconvert_exporter": "python",
   "pygments_lexer": "ipython3",
   "version": "3.11.7"
  }
 },
 "nbformat": 4,
 "nbformat_minor": 2
}
