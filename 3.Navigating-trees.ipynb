{
 "cells": [
  {
   "cell_type": "markdown",
   "metadata": {},
   "source": [
    "# Navigating Trees\n",
    "The find_all function is responsible for finding tags based on their name and\n",
    "attributes. But what if you need to find a tag based on its location in a document?\n",
    "That’s where tree navigation comes in handy.\n",
    "```\n",
    "bs.tag.subTag.anotherSubTag\n",
    "```"
   ]
  },
  {
   "cell_type": "markdown",
   "metadata": {},
   "source": [
    "## Childrens and decendents\n",
    "In the BeautifulSoup library, as well as many other libraries, there is a distinction\n",
    "drawn between children and descendants: much like in a human family tree, children\n",
    "are always exactly one tag below a parent, whereas descendants can be at any level in\n",
    "the tree below a parent. <br/>\n",
    "In general, BeautifulSoup functions always deal with the descendants of the current\n",
    "tag selected. For instance, `bs.body.h1` selects the first h1 tag that is a descendant of\n",
    "the body tag. It will not find tags located outside the body. <br/>\n",
    "If you want to find only descendants that are children, you can use the .children\n",
    "tag:"
   ]
  },
  {
   "cell_type": "code",
   "execution_count": null,
   "metadata": {},
   "outputs": [],
   "source": [
    "from urllib.request import urlopen\n",
    "from bs4 import BeautifulSoup\n",
    "html = urlopen('http://www.pythonscraping.com/pages/page3.html')\n",
    "bs = BeautifulSoup(html, 'html.parser')"
   ]
  },
  {
   "cell_type": "code",
   "execution_count": null,
   "metadata": {},
   "outputs": [],
   "source": [
    "for child in bs.find('table',{'id':'giftList'}).descendants: # .childrens to get childrens, .decendents to get all decendents\n",
    "    print(child)"
   ]
  },
  {
   "cell_type": "markdown",
   "metadata": {},
   "source": [
    "## Siblings\n",
    "The BeautifulSoup next_siblings() function makes it trivial to collect data from\n",
    "tables, especially ones with title rows:"
   ]
  },
  {
   "cell_type": "code",
   "execution_count": null,
   "metadata": {},
   "outputs": [],
   "source": [
    "for sibling in bs.find('table', {'id':'giftList'}).tr.next_siblings:\n",
    "    print(sibling) #prints all the rows(tr) of table"
   ]
  },
  {
   "cell_type": "markdown",
   "metadata": {},
   "source": [
    "As a complement to next_siblings, the previous_siblings function can often be\n",
    "helpful if there is an easily selectable tag at the end of a list of sibling tags that you\n",
    "would like to get."
   ]
  },
  {
   "cell_type": "markdown",
   "metadata": {},
   "source": [
    "## Parent\n",
    "BeautifulSoup has parent-finding functions, .parent and .parents. For\n",
    "example:"
   ]
  },
  {
   "cell_type": "code",
   "execution_count": null,
   "metadata": {},
   "outputs": [],
   "source": [
    "print(bs.find('img',  {'src':'../img/gifts/img1.jpg'}).parent.previous_sibling.get_text())"
   ]
  }
 ],
 "metadata": {
  "kernelspec": {
   "display_name": "Python 3",
   "language": "python",
   "name": "python3"
  },
  "language_info": {
   "codemirror_mode": {
    "name": "ipython",
    "version": 3
   },
   "file_extension": ".py",
   "mimetype": "text/x-python",
   "name": "python",
   "nbconvert_exporter": "python",
   "pygments_lexer": "ipython3",
   "version": "3.11.7"
  }
 },
 "nbformat": 4,
 "nbformat_minor": 2
}
